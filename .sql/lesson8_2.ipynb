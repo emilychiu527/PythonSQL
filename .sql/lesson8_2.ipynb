{
 "cells": [
  {
   "cell_type": "code",
   "execution_count": 1,
   "metadata": {},
   "outputs": [],
   "source": [
    "students =[{'name':'emily','chinese':88,'english':99, 'math':33},\n",
    "         {'name':'emily','chinese':88,'english':99, 'math':33},\n",
    "         {'name':'emily','chinese':88,'english':99, 'math':33}]\n",
    "\n",
    "    "
   ]
  },
  {
   "cell_type": "code",
   "execution_count": 6,
   "metadata": {},
   "outputs": [
    {
     "name": "stdout",
     "output_type": "stream",
     "text": [
      "emily\n",
      "88\n",
      "99\n",
      "33\n",
      "==========\n",
      "emily\n",
      "88\n",
      "99\n",
      "33\n",
      "==========\n",
      "emily\n",
      "88\n",
      "99\n",
      "33\n",
      "==========\n"
     ]
    }
   ],
   "source": [
    "for student in students:\n",
    "    for key in student:\n",
    "        print(student[key])\n",
    "    print(\"==========\")"
   ]
  }
 ],
 "metadata": {
  "kernelspec": {
   "display_name": "myenv",
   "language": "python",
   "name": "python3"
  },
  "language_info": {
   "codemirror_mode": {
    "name": "ipython",
    "version": 3
   },
   "file_extension": ".py",
   "mimetype": "text/x-python",
   "name": "python",
   "nbconvert_exporter": "python",
   "pygments_lexer": "ipython3",
   "version": "3.10.13"
  }
 },
 "nbformat": 4,
 "nbformat_minor": 2
}
